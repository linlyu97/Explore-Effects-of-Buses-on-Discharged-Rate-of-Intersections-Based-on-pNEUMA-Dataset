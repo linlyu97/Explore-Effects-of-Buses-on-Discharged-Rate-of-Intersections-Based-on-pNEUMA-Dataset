{
 "cells": [
  {
   "cell_type": "code",
   "execution_count": 71,
   "metadata": {},
   "outputs": [],
   "source": [
    "import time\n",
    "start_time = time.time()"
   ]
  },
  {
   "cell_type": "code",
   "execution_count": 72,
   "metadata": {},
   "outputs": [],
   "source": [
    "import math\n",
    "import numpy as np\n",
    "CONSTANTS_RADIUS_OF_EARTH = 6371000.     # meters (m)"
   ]
  },
  {
   "cell_type": "code",
   "execution_count": 73,
   "metadata": {},
   "outputs": [],
   "source": [
    "from sklearn.neighbors import KernelDensity"
   ]
  },
  {
   "cell_type": "code",
   "execution_count": 74,
   "metadata": {},
   "outputs": [],
   "source": [
    "import pandas as pd\n",
    "import numpy as np \n",
    "import csv\n",
    "from PIL import Image\n",
    "import matplotlib.pyplot as plt\n",
    "#from sklearn.neighbors.kde import KernelDensity\n",
    "from scipy.signal import argrelextrema"
   ]
  },
  {
   "cell_type": "code",
   "execution_count": 75,
   "metadata": {},
   "outputs": [],
   "source": [
    "data_path = \"20181024_d8_0830_0900.csv\" # define path to dataset\n",
    "# fps = 25"
   ]
  },
  {
   "cell_type": "markdown",
   "metadata": {},
   "source": [
    "### read data"
   ]
  },
  {
   "cell_type": "code",
   "execution_count": 76,
   "metadata": {},
   "outputs": [],
   "source": [
    "\n",
    "def read_uas4t_csv(path):\n",
    "    metadata_cols = ['track_id', 'type', 'traveled_d', 'avg_speed']\n",
    "    metadata_dtypes = [int, str, float, float]\n",
    "    data_cols = ['lat', 'lon', 'speed', 'lat_acc', 'lon_acc', 'time', 'track_id']\n",
    "    \n",
    "    metadata_colsize = len(metadata_cols)\n",
    "    data_colsize = len(data_cols)-1\n",
    "    \n",
    "    metadata_rows = list()\n",
    "    data_rows = list()\n",
    "    \n",
    "    with open(data_path) as csv_file:\n",
    "        csv_reader = csv.reader(csv_file, delimiter=';')\n",
    "        next(csv_reader)\n",
    "        metadata = dict()\n",
    "        for row in csv_reader:\n",
    "            row = [item.strip() for item in row]\n",
    "            track_id = int(row[0])\n",
    "            metadata_rows.append(row[:metadata_colsize])\n",
    "\n",
    "            data_traj = [float(item) for item in row[metadata_colsize:]\n",
    "                          if len(item) > 0]\n",
    "            for i in range(0,len(data_traj),data_colsize):\n",
    "                data_row = data_traj[i:i+data_colsize] + [track_id]\n",
    "                data_rows.append(data_row)\n",
    "            \n",
    "    data = pd.DataFrame(data_rows, columns=data_cols)     \n",
    "    metadata = pd.DataFrame(metadata_rows, columns=metadata_cols)\n",
    "    metadata = metadata.set_index('track_id')\n",
    "    metadata.index = metadata.index.astype(int)\n",
    "    return metadata, data"
   ]
  },
  {
   "cell_type": "code",
   "execution_count": 77,
   "metadata": {},
   "outputs": [],
   "source": [
    "metadata, data = read_uas4t_csv(data_path)"
   ]
  },
  {
   "cell_type": "code",
   "execution_count": 78,
   "metadata": {},
   "outputs": [
    {
     "data": {
      "text/html": [
       "<div>\n",
       "<style scoped>\n",
       "    .dataframe tbody tr th:only-of-type {\n",
       "        vertical-align: middle;\n",
       "    }\n",
       "\n",
       "    .dataframe tbody tr th {\n",
       "        vertical-align: top;\n",
       "    }\n",
       "\n",
       "    .dataframe thead th {\n",
       "        text-align: right;\n",
       "    }\n",
       "</style>\n",
       "<table border=\"1\" class=\"dataframe\">\n",
       "  <thead>\n",
       "    <tr style=\"text-align: right;\">\n",
       "      <th></th>\n",
       "      <th>lat</th>\n",
       "      <th>lon</th>\n",
       "      <th>speed</th>\n",
       "      <th>lat_acc</th>\n",
       "      <th>lon_acc</th>\n",
       "      <th>time</th>\n",
       "      <th>track_id</th>\n",
       "    </tr>\n",
       "  </thead>\n",
       "  <tbody>\n",
       "    <tr>\n",
       "      <th>0</th>\n",
       "      <td>37.990463</td>\n",
       "      <td>23.733359</td>\n",
       "      <td>0.0</td>\n",
       "      <td>0.0</td>\n",
       "      <td>0.0</td>\n",
       "      <td>0.00</td>\n",
       "      <td>1</td>\n",
       "    </tr>\n",
       "    <tr>\n",
       "      <th>1</th>\n",
       "      <td>37.990463</td>\n",
       "      <td>23.733359</td>\n",
       "      <td>0.0</td>\n",
       "      <td>0.0</td>\n",
       "      <td>0.0</td>\n",
       "      <td>0.04</td>\n",
       "      <td>1</td>\n",
       "    </tr>\n",
       "    <tr>\n",
       "      <th>2</th>\n",
       "      <td>37.990463</td>\n",
       "      <td>23.733359</td>\n",
       "      <td>0.0</td>\n",
       "      <td>0.0</td>\n",
       "      <td>0.0</td>\n",
       "      <td>0.08</td>\n",
       "      <td>1</td>\n",
       "    </tr>\n",
       "    <tr>\n",
       "      <th>3</th>\n",
       "      <td>37.990463</td>\n",
       "      <td>23.733359</td>\n",
       "      <td>0.0</td>\n",
       "      <td>0.0</td>\n",
       "      <td>0.0</td>\n",
       "      <td>0.12</td>\n",
       "      <td>1</td>\n",
       "    </tr>\n",
       "    <tr>\n",
       "      <th>4</th>\n",
       "      <td>37.990463</td>\n",
       "      <td>23.733359</td>\n",
       "      <td>0.0</td>\n",
       "      <td>0.0</td>\n",
       "      <td>0.0</td>\n",
       "      <td>0.16</td>\n",
       "      <td>1</td>\n",
       "    </tr>\n",
       "  </tbody>\n",
       "</table>\n",
       "</div>"
      ],
      "text/plain": [
       "         lat        lon  speed  lat_acc  lon_acc  time  track_id\n",
       "0  37.990463  23.733359    0.0      0.0      0.0  0.00         1\n",
       "1  37.990463  23.733359    0.0      0.0      0.0  0.04         1\n",
       "2  37.990463  23.733359    0.0      0.0      0.0  0.08         1\n",
       "3  37.990463  23.733359    0.0      0.0      0.0  0.12         1\n",
       "4  37.990463  23.733359    0.0      0.0      0.0  0.16         1"
      ]
     },
     "execution_count": 78,
     "metadata": {},
     "output_type": "execute_result"
    }
   ],
   "source": [
    "data.head()"
   ]
  },
  {
   "cell_type": "code",
   "execution_count": 79,
   "metadata": {},
   "outputs": [
    {
     "data": {
      "text/html": [
       "<div>\n",
       "<style scoped>\n",
       "    .dataframe tbody tr th:only-of-type {\n",
       "        vertical-align: middle;\n",
       "    }\n",
       "\n",
       "    .dataframe tbody tr th {\n",
       "        vertical-align: top;\n",
       "    }\n",
       "\n",
       "    .dataframe thead th {\n",
       "        text-align: right;\n",
       "    }\n",
       "</style>\n",
       "<table border=\"1\" class=\"dataframe\">\n",
       "  <thead>\n",
       "    <tr style=\"text-align: right;\">\n",
       "      <th></th>\n",
       "      <th>type</th>\n",
       "      <th>traveled_d</th>\n",
       "      <th>avg_speed</th>\n",
       "    </tr>\n",
       "    <tr>\n",
       "      <th>track_id</th>\n",
       "      <th></th>\n",
       "      <th></th>\n",
       "      <th></th>\n",
       "    </tr>\n",
       "  </thead>\n",
       "  <tbody>\n",
       "    <tr>\n",
       "      <th>1</th>\n",
       "      <td>Car</td>\n",
       "      <td>94.35</td>\n",
       "      <td>1.033608</td>\n",
       "    </tr>\n",
       "    <tr>\n",
       "      <th>2</th>\n",
       "      <td>Car</td>\n",
       "      <td>14.04</td>\n",
       "      <td>0.051467</td>\n",
       "    </tr>\n",
       "    <tr>\n",
       "      <th>3</th>\n",
       "      <td>Car</td>\n",
       "      <td>27.74</td>\n",
       "      <td>0.101729</td>\n",
       "    </tr>\n",
       "    <tr>\n",
       "      <th>4</th>\n",
       "      <td>Bus</td>\n",
       "      <td>318.73</td>\n",
       "      <td>1.169887</td>\n",
       "    </tr>\n",
       "    <tr>\n",
       "      <th>5</th>\n",
       "      <td>Car</td>\n",
       "      <td>166.38</td>\n",
       "      <td>0.899897</td>\n",
       "    </tr>\n",
       "  </tbody>\n",
       "</table>\n",
       "</div>"
      ],
      "text/plain": [
       "         type traveled_d avg_speed\n",
       "track_id                          \n",
       "1         Car      94.35  1.033608\n",
       "2         Car      14.04  0.051467\n",
       "3         Car      27.74  0.101729\n",
       "4         Bus     318.73  1.169887\n",
       "5         Car     166.38  0.899897"
      ]
     },
     "execution_count": 79,
     "metadata": {},
     "output_type": "execute_result"
    }
   ],
   "source": [
    "metadata.head()"
   ]
  },
  {
   "cell_type": "code",
   "execution_count": 80,
   "metadata": {},
   "outputs": [
    {
     "data": {
      "text/plain": [
       "1.8189894035458565e-12"
      ]
     },
     "execution_count": 80,
     "metadata": {},
     "output_type": "execute_result"
    }
   ],
   "source": [
    "fps = 25\n",
    "max(abs(round(fps*data['time'])-fps*data['time']))"
   ]
  },
  {
   "cell_type": "code",
   "execution_count": 81,
   "metadata": {},
   "outputs": [],
   "source": [
    "data['frame'] = round(fps*data['time']).astype(int)\n",
    "data.set_index(['track_id','frame'],drop=True,inplace=True)"
   ]
  },
  {
   "cell_type": "code",
   "execution_count": 52,
   "metadata": {},
   "outputs": [
    {
     "data": {
      "text/html": [
       "<div>\n",
       "<style scoped>\n",
       "    .dataframe tbody tr th:only-of-type {\n",
       "        vertical-align: middle;\n",
       "    }\n",
       "\n",
       "    .dataframe tbody tr th {\n",
       "        vertical-align: top;\n",
       "    }\n",
       "\n",
       "    .dataframe thead th {\n",
       "        text-align: right;\n",
       "    }\n",
       "</style>\n",
       "<table border=\"1\" class=\"dataframe\">\n",
       "  <thead>\n",
       "    <tr style=\"text-align: right;\">\n",
       "      <th></th>\n",
       "      <th></th>\n",
       "      <th>lat</th>\n",
       "      <th>lon</th>\n",
       "      <th>speed</th>\n",
       "      <th>lat_acc</th>\n",
       "      <th>lon_acc</th>\n",
       "      <th>time</th>\n",
       "    </tr>\n",
       "    <tr>\n",
       "      <th>track_id</th>\n",
       "      <th>frame</th>\n",
       "      <th></th>\n",
       "      <th></th>\n",
       "      <th></th>\n",
       "      <th></th>\n",
       "      <th></th>\n",
       "      <th></th>\n",
       "    </tr>\n",
       "  </thead>\n",
       "  <tbody>\n",
       "    <tr>\n",
       "      <th rowspan=\"5\" valign=\"top\">1</th>\n",
       "      <th>0</th>\n",
       "      <td>37.990463</td>\n",
       "      <td>23.733359</td>\n",
       "      <td>0.0</td>\n",
       "      <td>0.0</td>\n",
       "      <td>0.0</td>\n",
       "      <td>0.00</td>\n",
       "    </tr>\n",
       "    <tr>\n",
       "      <th>1</th>\n",
       "      <td>37.990463</td>\n",
       "      <td>23.733359</td>\n",
       "      <td>0.0</td>\n",
       "      <td>0.0</td>\n",
       "      <td>0.0</td>\n",
       "      <td>0.04</td>\n",
       "    </tr>\n",
       "    <tr>\n",
       "      <th>2</th>\n",
       "      <td>37.990463</td>\n",
       "      <td>23.733359</td>\n",
       "      <td>0.0</td>\n",
       "      <td>0.0</td>\n",
       "      <td>0.0</td>\n",
       "      <td>0.08</td>\n",
       "    </tr>\n",
       "    <tr>\n",
       "      <th>3</th>\n",
       "      <td>37.990463</td>\n",
       "      <td>23.733359</td>\n",
       "      <td>0.0</td>\n",
       "      <td>0.0</td>\n",
       "      <td>0.0</td>\n",
       "      <td>0.12</td>\n",
       "    </tr>\n",
       "    <tr>\n",
       "      <th>4</th>\n",
       "      <td>37.990463</td>\n",
       "      <td>23.733359</td>\n",
       "      <td>0.0</td>\n",
       "      <td>0.0</td>\n",
       "      <td>0.0</td>\n",
       "      <td>0.16</td>\n",
       "    </tr>\n",
       "  </tbody>\n",
       "</table>\n",
       "</div>"
      ],
      "text/plain": [
       "                      lat        lon  speed  lat_acc  lon_acc  time\n",
       "track_id frame                                                     \n",
       "1        0      37.990463  23.733359    0.0      0.0      0.0  0.00\n",
       "         1      37.990463  23.733359    0.0      0.0      0.0  0.04\n",
       "         2      37.990463  23.733359    0.0      0.0      0.0  0.08\n",
       "         3      37.990463  23.733359    0.0      0.0      0.0  0.12\n",
       "         4      37.990463  23.733359    0.0      0.0      0.0  0.16"
      ]
     },
     "execution_count": 52,
     "metadata": {},
     "output_type": "execute_result"
    }
   ],
   "source": [
    "data.head()"
   ]
  },
  {
   "cell_type": "markdown",
   "metadata": {},
   "source": [
    "### Convert GPS to XY coordinates and data processing"
   ]
  },
  {
   "cell_type": "code",
   "execution_count": 53,
   "metadata": {},
   "outputs": [],
   "source": [
    "def GPStoXY(lat, lon, ref_lat, ref_lon):\n",
    "        # input GPS and Reference GPS in degrees\n",
    "        # output XY in meters (m) X:North Y:East\n",
    "        lat_rad = math.radians(lat)\n",
    "        lon_rad = math.radians(lon)\n",
    "        ref_lat_rad = math.radians(ref_lat)\n",
    "        ref_lon_rad = math.radians(ref_lon)\n",
    "\n",
    "        sin_lat = math.sin(lat_rad)\n",
    "        cos_lat = math.cos(lat_rad)\n",
    "        ref_sin_lat = math.sin(ref_lat_rad)\n",
    "        ref_cos_lat = math.cos(ref_lat_rad)\n",
    "\n",
    "        cos_d_lon = math.cos(lon_rad - ref_lon_rad)\n",
    "\n",
    "        arg = np.clip(ref_sin_lat * sin_lat + ref_cos_lat * cos_lat * cos_d_lon, -1.0, 1.0)\n",
    "        c = math.acos(arg)\n",
    "\n",
    "        k = 1.0\n",
    "        if abs(c) > 0:\n",
    "            k = (c / math.sin(c))\n",
    "\n",
    "        x = float(k * (ref_cos_lat * sin_lat - ref_sin_lat * cos_lat * cos_d_lon) * CONSTANTS_RADIUS_OF_EARTH)\n",
    "        y = float(k * cos_lat * math.sin(lon_rad - ref_lon_rad) * CONSTANTS_RADIUS_OF_EARTH)\n",
    "\n",
    "        return x, y\n"
   ]
  },
  {
   "cell_type": "code",
   "execution_count": 83,
   "metadata": {},
   "outputs": [],
   "source": [
    "ref_lat = data.lat.min()\n",
    "ref_lon = data.lon.min()\n",
    "\n",
    "data[\"x\"] = data.apply(lambda x: GPStoXY(x.lat, x.lon, ref_lat, ref_lon)[0], axis=1)\n",
    "data[\"y\"] = data.apply(lambda x: GPStoXY(x.lat, x.lon, ref_lat, ref_lon)[1], axis=1)\n"
   ]
  },
  {
   "cell_type": "code",
   "execution_count": 88,
   "metadata": {},
   "outputs": [
    {
     "data": {
      "text/plain": [
       "<matplotlib.collections.PathCollection at 0x20a43e31190>"
      ]
     },
     "execution_count": 88,
     "metadata": {},
     "output_type": "execute_result"
    },
    {
     "data": {
      "image/png": "[encoded data removed]",
      "text/plain": [
       "<Figure size 432x288 with 1 Axes>"
      ]
     },
     "metadata": {
      "needs_background": "light"
     },
     "output_type": "display_data"
    }
   ],
   "source": [
    "plt.scatter(data.lon,data.lat)\n",
    "plt.show()"
   ]
  },
  {
   "cell_type": "code",
   "execution_count": 87,
   "metadata": {},
   "outputs": [
    {
     "data": {
      "image/png": "[encoded data removed]",
      "text/plain": [
       "<Figure size 432x288 with 1 Axes>"
      ]
     },
     "metadata": {
      "needs_background": "light"
     },
     "output_type": "display_data"
    }
   ],
   "source": [
    "plt.scatter(data.y,data.x)\n",
    "\n",
    "plt.show()"
   ]
  },
  {
   "cell_type": "code",
   "execution_count": 90,
   "metadata": {},
   "outputs": [],
   "source": [
    "data[\"x1\"] = data.apply(lambda x: x.x* math.cos(0.2041075902)-x.y*math.sin(0.2041075902), axis=1)\n",
    "data[\"y1\"] = data.apply(lambda x: x.x* math.sin(0.2041075902)+x.y*math.cos(0.2041075902), axis=1)\n"
   ]
  },
  {
   "cell_type": "code",
   "execution_count": 91,
   "metadata": {},
   "outputs": [
    {
     "data": {
      "image/png": "[encoded data removed]",
      "text/plain": [
       "<Figure size 432x288 with 1 Axes>"
      ]
     },
     "metadata": {
      "needs_background": "light"
     },
     "output_type": "display_data"
    }
   ],
   "source": [
    "plt.scatter(data.y1,data.x1)\n",
    "\n",
    "plt.show()"
   ]
  },
  {
   "cell_type": "code",
   "execution_count": 97,
   "metadata": {},
   "outputs": [
    {
     "data": {
      "text/html": [
       "<div>\n",
       "<style scoped>\n",
       "    .dataframe tbody tr th:only-of-type {\n",
       "        vertical-align: middle;\n",
       "    }\n",
       "\n",
       "    .dataframe tbody tr th {\n",
       "        vertical-align: top;\n",
       "    }\n",
       "\n",
       "    .dataframe thead th {\n",
       "        text-align: right;\n",
       "    }\n",
       "</style>\n",
       "<table border=\"1\" class=\"dataframe\">\n",
       "  <thead>\n",
       "    <tr style=\"text-align: right;\">\n",
       "      <th></th>\n",
       "      <th></th>\n",
       "      <th>lat</th>\n",
       "      <th>lon</th>\n",
       "      <th>speed</th>\n",
       "      <th>lat_acc</th>\n",
       "      <th>lon_acc</th>\n",
       "      <th>time</th>\n",
       "      <th>x</th>\n",
       "      <th>y</th>\n",
       "      <th>x1</th>\n",
       "      <th>y1</th>\n",
       "    </tr>\n",
       "    <tr>\n",
       "      <th>track_id</th>\n",
       "      <th>frame</th>\n",
       "      <th></th>\n",
       "      <th></th>\n",
       "      <th></th>\n",
       "      <th></th>\n",
       "      <th></th>\n",
       "      <th></th>\n",
       "      <th></th>\n",
       "      <th></th>\n",
       "      <th></th>\n",
       "      <th></th>\n",
       "    </tr>\n",
       "  </thead>\n",
       "  <tbody>\n",
       "    <tr>\n",
       "      <th rowspan=\"5\" valign=\"top\">1</th>\n",
       "      <th>0</th>\n",
       "      <td>37.990463</td>\n",
       "      <td>23.733359</td>\n",
       "      <td>0.0</td>\n",
       "      <td>0.0</td>\n",
       "      <td>0.0</td>\n",
       "      <td>0.00</td>\n",
       "      <td>100.413493</td>\n",
       "      <td>270.176213</td>\n",
       "      <td>43.566213</td>\n",
       "      <td>284.921113</td>\n",
       "    </tr>\n",
       "    <tr>\n",
       "      <th>1</th>\n",
       "      <td>37.990463</td>\n",
       "      <td>23.733359</td>\n",
       "      <td>0.0</td>\n",
       "      <td>0.0</td>\n",
       "      <td>0.0</td>\n",
       "      <td>0.04</td>\n",
       "      <td>100.413493</td>\n",
       "      <td>270.176213</td>\n",
       "      <td>43.566213</td>\n",
       "      <td>284.921113</td>\n",
       "    </tr>\n",
       "    <tr>\n",
       "      <th>2</th>\n",
       "      <td>37.990463</td>\n",
       "      <td>23.733359</td>\n",
       "      <td>0.0</td>\n",
       "      <td>0.0</td>\n",
       "      <td>0.0</td>\n",
       "      <td>0.08</td>\n",
       "      <td>100.413493</td>\n",
       "      <td>270.176213</td>\n",
       "      <td>43.566213</td>\n",
       "      <td>284.921113</td>\n",
       "    </tr>\n",
       "    <tr>\n",
       "      <th>3</th>\n",
       "      <td>37.990463</td>\n",
       "      <td>23.733359</td>\n",
       "      <td>0.0</td>\n",
       "      <td>0.0</td>\n",
       "      <td>0.0</td>\n",
       "      <td>0.12</td>\n",
       "      <td>100.413493</td>\n",
       "      <td>270.176213</td>\n",
       "      <td>43.566213</td>\n",
       "      <td>284.921113</td>\n",
       "    </tr>\n",
       "    <tr>\n",
       "      <th>4</th>\n",
       "      <td>37.990463</td>\n",
       "      <td>23.733359</td>\n",
       "      <td>0.0</td>\n",
       "      <td>0.0</td>\n",
       "      <td>0.0</td>\n",
       "      <td>0.16</td>\n",
       "      <td>100.413493</td>\n",
       "      <td>270.176213</td>\n",
       "      <td>43.566213</td>\n",
       "      <td>284.921113</td>\n",
       "    </tr>\n",
       "  </tbody>\n",
       "</table>\n",
       "</div>"
      ],
      "text/plain": [
       "                      lat        lon  speed  lat_acc  lon_acc  time  \\\n",
       "track_id frame                                                        \n",
       "1        0      37.990463  23.733359    0.0      0.0      0.0  0.00   \n",
       "         1      37.990463  23.733359    0.0      0.0      0.0  0.04   \n",
       "         2      37.990463  23.733359    0.0      0.0      0.0  0.08   \n",
       "         3      37.990463  23.733359    0.0      0.0      0.0  0.12   \n",
       "         4      37.990463  23.733359    0.0      0.0      0.0  0.16   \n",
       "\n",
       "                         x           y         x1          y1  \n",
       "track_id frame                                                 \n",
       "1        0      100.413493  270.176213  43.566213  284.921113  \n",
       "         1      100.413493  270.176213  43.566213  284.921113  \n",
       "         2      100.413493  270.176213  43.566213  284.921113  \n",
       "         3      100.413493  270.176213  43.566213  284.921113  \n",
       "         4      100.413493  270.176213  43.566213  284.921113  "
      ]
     },
     "execution_count": 97,
     "metadata": {},
     "output_type": "execute_result"
    }
   ],
   "source": [
    "data.head()"
   ]
  },
  {
   "cell_type": "code",
   "execution_count": 12,
   "metadata": {},
   "outputs": [],
   "source": [
    "lat0 = data['lat'].min()\n",
    "lat1 = data['lat'].max()\n",
    "dlat = lat1-lat0\n",
    "\n",
    "lon0 = data['lon'].min()\n",
    "lon1 = data['lon'].max()\n",
    "dlon = lon1-lon0"
   ]
  },
  {
   "cell_type": "code",
   "execution_count": 13,
   "metadata": {},
   "outputs": [
    {
     "name": "stdout",
     "output_type": "stream",
     "text": [
      "[37.98956, 23.730276, 37.992702, 23.736387]\n"
     ]
    }
   ],
   "source": [
    "print([lat0, lon0, lat1, lon1])"
   ]
  },
  {
   "cell_type": "code",
   "execution_count": 14,
   "metadata": {},
   "outputs": [],
   "source": [
    "a = 6378.137          # equitorial radius from WGS84 model in km\n",
    "f = 1./298.257223563  # spheroid flattening factor from WGS84 model\n",
    "\n",
    "e2 = f*(2-f)          # eccentricity squared\n",
    "\n",
    "sin_lat0 = np.sin(np.deg2rad(lat0))\n",
    "cos_lat0 = np.cos(np.deg2rad(lat0))\n",
    "n = np.sqrt(1 - e2*sin_lat0**2)\n",
    "\n",
    "R1 = (1-e2) * a / n**3\n",
    "R2 = a / n\n",
    "\n",
    "dN = R1 * np.deg2rad(dlat)\n",
    "dE = R2 * cos_lat0 * np.deg2rad(dlon)"
   ]
  },
  {
   "cell_type": "code",
   "execution_count": 15,
   "metadata": {},
   "outputs": [
    {
     "name": "stdout",
     "output_type": "stream",
     "text": [
      "-18.229\n"
     ]
    }
   ],
   "source": [
    "true_diag = 658.387\n",
    "flat_diag = 1e3*np.sqrt(dN**2 + dE**2)\n",
    "print(round(flat_diag-true_diag,3)) # print error to 3 significant digits"
   ]
  },
  {
   "cell_type": "code",
   "execution_count": 16,
   "metadata": {},
   "outputs": [],
   "source": [
    "def convLL(LLcol,scale,LL0):\n",
    "    return (scale*(LLcol-LL0)).apply(round).astype(int)\n",
    "\n",
    "scale = 1e6"
   ]
  },
  {
   "cell_type": "code",
   "execution_count": 17,
   "metadata": {},
   "outputs": [],
   "source": [
    "data['N'] = convLL(data['lat'],scale=scale,LL0=lat0)\n",
    "data['E'] = convLL(data['lon'],scale=scale,LL0=lon0)"
   ]
  },
  {
   "cell_type": "code",
   "execution_count": 18,
   "metadata": {},
   "outputs": [
    {
     "data": {
      "text/html": [
       "<div>\n",
       "<style scoped>\n",
       "    .dataframe tbody tr th:only-of-type {\n",
       "        vertical-align: middle;\n",
       "    }\n",
       "\n",
       "    .dataframe tbody tr th {\n",
       "        vertical-align: top;\n",
       "    }\n",
       "\n",
       "    .dataframe thead th {\n",
       "        text-align: right;\n",
       "    }\n",
       "</style>\n",
       "<table border=\"1\" class=\"dataframe\">\n",
       "  <thead>\n",
       "    <tr style=\"text-align: right;\">\n",
       "      <th></th>\n",
       "      <th></th>\n",
       "      <th>lat</th>\n",
       "      <th>lon</th>\n",
       "      <th>speed</th>\n",
       "      <th>lat_acc</th>\n",
       "      <th>lon_acc</th>\n",
       "      <th>time</th>\n",
       "      <th>N</th>\n",
       "      <th>E</th>\n",
       "    </tr>\n",
       "    <tr>\n",
       "      <th>track_id</th>\n",
       "      <th>frame</th>\n",
       "      <th></th>\n",
       "      <th></th>\n",
       "      <th></th>\n",
       "      <th></th>\n",
       "      <th></th>\n",
       "      <th></th>\n",
       "      <th></th>\n",
       "      <th></th>\n",
       "    </tr>\n",
       "  </thead>\n",
       "  <tbody>\n",
       "    <tr>\n",
       "      <th rowspan=\"5\" valign=\"top\">1</th>\n",
       "      <th>0</th>\n",
       "      <td>37.990463</td>\n",
       "      <td>23.733359</td>\n",
       "      <td>0.0</td>\n",
       "      <td>0.0</td>\n",
       "      <td>0.0</td>\n",
       "      <td>0.00</td>\n",
       "      <td>903</td>\n",
       "      <td>3083</td>\n",
       "    </tr>\n",
       "    <tr>\n",
       "      <th>1</th>\n",
       "      <td>37.990463</td>\n",
       "      <td>23.733359</td>\n",
       "      <td>0.0</td>\n",
       "      <td>0.0</td>\n",
       "      <td>0.0</td>\n",
       "      <td>0.04</td>\n",
       "      <td>903</td>\n",
       "      <td>3083</td>\n",
       "    </tr>\n",
       "    <tr>\n",
       "      <th>2</th>\n",
       "      <td>37.990463</td>\n",
       "      <td>23.733359</td>\n",
       "      <td>0.0</td>\n",
       "      <td>0.0</td>\n",
       "      <td>0.0</td>\n",
       "      <td>0.08</td>\n",
       "      <td>903</td>\n",
       "      <td>3083</td>\n",
       "    </tr>\n",
       "    <tr>\n",
       "      <th>3</th>\n",
       "      <td>37.990463</td>\n",
       "      <td>23.733359</td>\n",
       "      <td>0.0</td>\n",
       "      <td>0.0</td>\n",
       "      <td>0.0</td>\n",
       "      <td>0.12</td>\n",
       "      <td>903</td>\n",
       "      <td>3083</td>\n",
       "    </tr>\n",
       "    <tr>\n",
       "      <th>4</th>\n",
       "      <td>37.990463</td>\n",
       "      <td>23.733359</td>\n",
       "      <td>0.0</td>\n",
       "      <td>0.0</td>\n",
       "      <td>0.0</td>\n",
       "      <td>0.16</td>\n",
       "      <td>903</td>\n",
       "      <td>3083</td>\n",
       "    </tr>\n",
       "  </tbody>\n",
       "</table>\n",
       "</div>"
      ],
      "text/plain": [
       "                      lat        lon  speed  lat_acc  lon_acc  time    N     E\n",
       "track_id frame                                                                \n",
       "1        0      37.990463  23.733359    0.0      0.0      0.0  0.00  903  3083\n",
       "         1      37.990463  23.733359    0.0      0.0      0.0  0.04  903  3083\n",
       "         2      37.990463  23.733359    0.0      0.0      0.0  0.08  903  3083\n",
       "         3      37.990463  23.733359    0.0      0.0      0.0  0.12  903  3083\n",
       "         4      37.990463  23.733359    0.0      0.0      0.0  0.16  903  3083"
      ]
     },
     "execution_count": 18,
     "metadata": {},
     "output_type": "execute_result"
    }
   ],
   "source": [
    "data.head()"
   ]
  },
  {
   "cell_type": "code",
   "execution_count": 19,
   "metadata": {},
   "outputs": [],
   "source": [
    "Nrange = data['N'].max()+1\n",
    "Erange = data['E'].max()+1"
   ]
  },
  {
   "cell_type": "markdown",
   "metadata": {},
   "source": [
    "### Create heatmap"
   ]
  },
  {
   "cell_type": "code",
   "execution_count": 1,
   "metadata": {},
   "outputs": [],
   "source": [
    "def create_traffic_heatmap(pos,sat_count=10,min_count=1):    \n",
    "    img_array = np.zeros((Nrange,Erange))     # initalize image array\n",
    "    \n",
    "    uniques = pos.apply(pd.value_counts)                     # find unique values and apply to array\n",
    "    img_array[tuple(np.asarray(tuple(uniques.index)).T)] = uniques.values\n",
    "    img_array[img_array < min_count] = 0\n",
    "        \n",
    "    img_array = np.clip(img_array,0,sat_count) / sat_count        # scale and saturate\n",
    "    \n",
    "    im = Image.fromarray(np.uint8(np.flipud(img_array)*255),'L')  # create image from array\n",
    "    \n",
    "    return im, img_array"
   ]
  },
  {
   "cell_type": "code",
   "execution_count": null,
   "metadata": {},
   "outputs": [],
   "source": [
    "im_baseline, im_baseline_array = create_traffic_heatmap(data[['N','E']],sat_count=3,min_count=2)"
   ]
  },
  {
   "cell_type": "code",
   "execution_count": 48,
   "metadata": {},
   "outputs": [],
   "source": [
    "uniques = data[['N','E']].apply(pd.value_counts) \n",
    "tuple(np.asarray(tuple(uniques.index)).T)"
   ]
  },
  {
   "cell_type": "code",
   "execution_count": 50,
   "metadata": {},
   "outputs": [
    {
     "data": {
      "text/plain": [
       "array([[ 1.,  1.],\n",
       "       [ 1.,  1.],\n",
       "       [nan,  1.],\n",
       "       ...,\n",
       "       [nan,  1.],\n",
       "       [nan,  1.],\n",
       "       [nan,  2.]])"
      ]
     },
     "execution_count": 50,
     "metadata": {},
     "output_type": "execute_result"
    }
   ],
   "source": [
    "uniques.values"
   ]
  },
  {
   "cell_type": "code",
   "execution_count": 42,
   "metadata": {},
   "outputs": [
    {
     "data": {
      "text/plain": [
       "array([27931, 25929, 25045, ...,     1,     1,     1], dtype=int64)"
      ]
     },
     "execution_count": 42,
     "metadata": {},
     "output_type": "execute_result"
    }
   ],
   "source": [
    "uni.values"
   ]
  },
  {
   "cell_type": "markdown",
   "metadata": {},
   "source": [
    "### save data"
   ]
  },
  {
   "cell_type": "code",
   "execution_count": 96,
   "metadata": {},
   "outputs": [],
   "source": [
    "data.to_csv('20181024_d8_0830_0900_new.csv',index=False)"
   ]
  }
 ],
 "metadata": {
  "kernelspec": {
   "display_name": "Python 3",
   "language": "python",
   "name": "python3"
  },
  "language_info": {
   "codemirror_mode": {
    "name": "ipython",
    "version": 3
   },
   "file_extension": ".py",
   "mimetype": "text/x-python",
   "name": "python",
   "nbconvert_exporter": "python",
   "pygments_lexer": "ipython3",
   "version": "3.7.6"
  }
 },
 "nbformat": 4,
 "nbformat_minor": 4
}
